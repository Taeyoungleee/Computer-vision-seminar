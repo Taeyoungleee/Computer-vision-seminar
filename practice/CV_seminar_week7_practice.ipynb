{
  "nbformat": 4,
  "nbformat_minor": 0,
  "metadata": {
    "colab": {
      "provenance": [],
      "mount_file_id": "1aV6_pWvKN2O5XrM81jPFWy_PLG8x1jQi",
      "authorship_tag": "ABX9TyO6gZlbK+ky04lQMY5thiwD",
      "include_colab_link": true
    },
    "kernelspec": {
      "name": "python3",
      "display_name": "Python 3"
    },
    "language_info": {
      "name": "python"
    },
    "accelerator": "GPU",
    "gpuClass": "standard",
    "widgets": {
      "application/vnd.jupyter.widget-state+json": {
        "1000c5a4d107457f9a5b832401f892a6": {
          "model_module": "@jupyter-widgets/controls",
          "model_name": "HBoxModel",
          "model_module_version": "1.5.0",
          "state": {
            "_dom_classes": [],
            "_model_module": "@jupyter-widgets/controls",
            "_model_module_version": "1.5.0",
            "_model_name": "HBoxModel",
            "_view_count": null,
            "_view_module": "@jupyter-widgets/controls",
            "_view_module_version": "1.5.0",
            "_view_name": "HBoxView",
            "box_style": "",
            "children": [
              "IPY_MODEL_5d38fdc983a5410bbb1583ad7b97c608",
              "IPY_MODEL_ebcb0e2e6fec43278ca644b69599cf86",
              "IPY_MODEL_512fbe2bb9dc40c0a9e37ecc8c71773f"
            ],
            "layout": "IPY_MODEL_c4a4edfaa4394253978f432fc48c48fe"
          }
        },
        "5d38fdc983a5410bbb1583ad7b97c608": {
          "model_module": "@jupyter-widgets/controls",
          "model_name": "HTMLModel",
          "model_module_version": "1.5.0",
          "state": {
            "_dom_classes": [],
            "_model_module": "@jupyter-widgets/controls",
            "_model_module_version": "1.5.0",
            "_model_name": "HTMLModel",
            "_view_count": null,
            "_view_module": "@jupyter-widgets/controls",
            "_view_module_version": "1.5.0",
            "_view_name": "HTMLView",
            "description": "",
            "description_tooltip": null,
            "layout": "IPY_MODEL_8b9b5c70b0054efb9a62c6faa963a04d",
            "placeholder": "​",
            "style": "IPY_MODEL_8636fd13d7fc4d97995523f5d3881b83",
            "value": "100%"
          }
        },
        "ebcb0e2e6fec43278ca644b69599cf86": {
          "model_module": "@jupyter-widgets/controls",
          "model_name": "FloatProgressModel",
          "model_module_version": "1.5.0",
          "state": {
            "_dom_classes": [],
            "_model_module": "@jupyter-widgets/controls",
            "_model_module_version": "1.5.0",
            "_model_name": "FloatProgressModel",
            "_view_count": null,
            "_view_module": "@jupyter-widgets/controls",
            "_view_module_version": "1.5.0",
            "_view_name": "ProgressView",
            "bar_style": "success",
            "description": "",
            "description_tooltip": null,
            "layout": "IPY_MODEL_8bba1d7756d04983be7804c21e33b0c9",
            "max": 102530333,
            "min": 0,
            "orientation": "horizontal",
            "style": "IPY_MODEL_db8edfe95ec84e6ab8a820baf9ed0f97",
            "value": 102530333
          }
        },
        "512fbe2bb9dc40c0a9e37ecc8c71773f": {
          "model_module": "@jupyter-widgets/controls",
          "model_name": "HTMLModel",
          "model_module_version": "1.5.0",
          "state": {
            "_dom_classes": [],
            "_model_module": "@jupyter-widgets/controls",
            "_model_module_version": "1.5.0",
            "_model_name": "HTMLModel",
            "_view_count": null,
            "_view_module": "@jupyter-widgets/controls",
            "_view_module_version": "1.5.0",
            "_view_name": "HTMLView",
            "description": "",
            "description_tooltip": null,
            "layout": "IPY_MODEL_c43477060ffd4ac0a1a2c26204013c44",
            "placeholder": "​",
            "style": "IPY_MODEL_27d0a82f0a024503ac919d8eb51690f7",
            "value": " 97.8M/97.8M [00:00&lt;00:00, 276MB/s]"
          }
        },
        "c4a4edfaa4394253978f432fc48c48fe": {
          "model_module": "@jupyter-widgets/base",
          "model_name": "LayoutModel",
          "model_module_version": "1.2.0",
          "state": {
            "_model_module": "@jupyter-widgets/base",
            "_model_module_version": "1.2.0",
            "_model_name": "LayoutModel",
            "_view_count": null,
            "_view_module": "@jupyter-widgets/base",
            "_view_module_version": "1.2.0",
            "_view_name": "LayoutView",
            "align_content": null,
            "align_items": null,
            "align_self": null,
            "border": null,
            "bottom": null,
            "display": null,
            "flex": null,
            "flex_flow": null,
            "grid_area": null,
            "grid_auto_columns": null,
            "grid_auto_flow": null,
            "grid_auto_rows": null,
            "grid_column": null,
            "grid_gap": null,
            "grid_row": null,
            "grid_template_areas": null,
            "grid_template_columns": null,
            "grid_template_rows": null,
            "height": null,
            "justify_content": null,
            "justify_items": null,
            "left": null,
            "margin": null,
            "max_height": null,
            "max_width": null,
            "min_height": null,
            "min_width": null,
            "object_fit": null,
            "object_position": null,
            "order": null,
            "overflow": null,
            "overflow_x": null,
            "overflow_y": null,
            "padding": null,
            "right": null,
            "top": null,
            "visibility": null,
            "width": null
          }
        },
        "8b9b5c70b0054efb9a62c6faa963a04d": {
          "model_module": "@jupyter-widgets/base",
          "model_name": "LayoutModel",
          "model_module_version": "1.2.0",
          "state": {
            "_model_module": "@jupyter-widgets/base",
            "_model_module_version": "1.2.0",
            "_model_name": "LayoutModel",
            "_view_count": null,
            "_view_module": "@jupyter-widgets/base",
            "_view_module_version": "1.2.0",
            "_view_name": "LayoutView",
            "align_content": null,
            "align_items": null,
            "align_self": null,
            "border": null,
            "bottom": null,
            "display": null,
            "flex": null,
            "flex_flow": null,
            "grid_area": null,
            "grid_auto_columns": null,
            "grid_auto_flow": null,
            "grid_auto_rows": null,
            "grid_column": null,
            "grid_gap": null,
            "grid_row": null,
            "grid_template_areas": null,
            "grid_template_columns": null,
            "grid_template_rows": null,
            "height": null,
            "justify_content": null,
            "justify_items": null,
            "left": null,
            "margin": null,
            "max_height": null,
            "max_width": null,
            "min_height": null,
            "min_width": null,
            "object_fit": null,
            "object_position": null,
            "order": null,
            "overflow": null,
            "overflow_x": null,
            "overflow_y": null,
            "padding": null,
            "right": null,
            "top": null,
            "visibility": null,
            "width": null
          }
        },
        "8636fd13d7fc4d97995523f5d3881b83": {
          "model_module": "@jupyter-widgets/controls",
          "model_name": "DescriptionStyleModel",
          "model_module_version": "1.5.0",
          "state": {
            "_model_module": "@jupyter-widgets/controls",
            "_model_module_version": "1.5.0",
            "_model_name": "DescriptionStyleModel",
            "_view_count": null,
            "_view_module": "@jupyter-widgets/base",
            "_view_module_version": "1.2.0",
            "_view_name": "StyleView",
            "description_width": ""
          }
        },
        "8bba1d7756d04983be7804c21e33b0c9": {
          "model_module": "@jupyter-widgets/base",
          "model_name": "LayoutModel",
          "model_module_version": "1.2.0",
          "state": {
            "_model_module": "@jupyter-widgets/base",
            "_model_module_version": "1.2.0",
            "_model_name": "LayoutModel",
            "_view_count": null,
            "_view_module": "@jupyter-widgets/base",
            "_view_module_version": "1.2.0",
            "_view_name": "LayoutView",
            "align_content": null,
            "align_items": null,
            "align_self": null,
            "border": null,
            "bottom": null,
            "display": null,
            "flex": null,
            "flex_flow": null,
            "grid_area": null,
            "grid_auto_columns": null,
            "grid_auto_flow": null,
            "grid_auto_rows": null,
            "grid_column": null,
            "grid_gap": null,
            "grid_row": null,
            "grid_template_areas": null,
            "grid_template_columns": null,
            "grid_template_rows": null,
            "height": null,
            "justify_content": null,
            "justify_items": null,
            "left": null,
            "margin": null,
            "max_height": null,
            "max_width": null,
            "min_height": null,
            "min_width": null,
            "object_fit": null,
            "object_position": null,
            "order": null,
            "overflow": null,
            "overflow_x": null,
            "overflow_y": null,
            "padding": null,
            "right": null,
            "top": null,
            "visibility": null,
            "width": null
          }
        },
        "db8edfe95ec84e6ab8a820baf9ed0f97": {
          "model_module": "@jupyter-widgets/controls",
          "model_name": "ProgressStyleModel",
          "model_module_version": "1.5.0",
          "state": {
            "_model_module": "@jupyter-widgets/controls",
            "_model_module_version": "1.5.0",
            "_model_name": "ProgressStyleModel",
            "_view_count": null,
            "_view_module": "@jupyter-widgets/base",
            "_view_module_version": "1.2.0",
            "_view_name": "StyleView",
            "bar_color": null,
            "description_width": ""
          }
        },
        "c43477060ffd4ac0a1a2c26204013c44": {
          "model_module": "@jupyter-widgets/base",
          "model_name": "LayoutModel",
          "model_module_version": "1.2.0",
          "state": {
            "_model_module": "@jupyter-widgets/base",
            "_model_module_version": "1.2.0",
            "_model_name": "LayoutModel",
            "_view_count": null,
            "_view_module": "@jupyter-widgets/base",
            "_view_module_version": "1.2.0",
            "_view_name": "LayoutView",
            "align_content": null,
            "align_items": null,
            "align_self": null,
            "border": null,
            "bottom": null,
            "display": null,
            "flex": null,
            "flex_flow": null,
            "grid_area": null,
            "grid_auto_columns": null,
            "grid_auto_flow": null,
            "grid_auto_rows": null,
            "grid_column": null,
            "grid_gap": null,
            "grid_row": null,
            "grid_template_areas": null,
            "grid_template_columns": null,
            "grid_template_rows": null,
            "height": null,
            "justify_content": null,
            "justify_items": null,
            "left": null,
            "margin": null,
            "max_height": null,
            "max_width": null,
            "min_height": null,
            "min_width": null,
            "object_fit": null,
            "object_position": null,
            "order": null,
            "overflow": null,
            "overflow_x": null,
            "overflow_y": null,
            "padding": null,
            "right": null,
            "top": null,
            "visibility": null,
            "width": null
          }
        },
        "27d0a82f0a024503ac919d8eb51690f7": {
          "model_module": "@jupyter-widgets/controls",
          "model_name": "DescriptionStyleModel",
          "model_module_version": "1.5.0",
          "state": {
            "_model_module": "@jupyter-widgets/controls",
            "_model_module_version": "1.5.0",
            "_model_name": "DescriptionStyleModel",
            "_view_count": null,
            "_view_module": "@jupyter-widgets/base",
            "_view_module_version": "1.2.0",
            "_view_name": "StyleView",
            "description_width": ""
          }
        }
      }
    }
  },
  "cells": [
    {
      "cell_type": "markdown",
      "metadata": {
        "id": "view-in-github",
        "colab_type": "text"
      },
      "source": [
        "<a href=\"https://colab.research.google.com/github/Taeyoungleee/ComputerVision_Seminar/blob/main/practice/CV_seminar_week7_practice.ipynb\" target=\"_parent\"><img src=\"https://colab.research.google.com/assets/colab-badge.svg\" alt=\"Open In Colab\"/></a>"
      ]
    },
    {
      "cell_type": "code",
      "source": [
        "from google.colab import drive\n",
        "drive.mount('/content/drive')"
      ],
      "metadata": {
        "colab": {
          "base_uri": "https://localhost:8080/"
        },
        "id": "iLG4irFRyImv",
        "outputId": "12c17372-75be-4390-ff6b-8ae5c3711c74"
      },
      "execution_count": 2,
      "outputs": [
        {
          "output_type": "stream",
          "name": "stdout",
          "text": [
            "Drive already mounted at /content/drive; to attempt to forcibly remount, call drive.mount(\"/content/drive\", force_remount=True).\n"
          ]
        }
      ]
    },
    {
      "cell_type": "code",
      "source": [
        "%cd /content/drive/MyDrive/CV_seminar_project"
      ],
      "metadata": {
        "colab": {
          "base_uri": "https://localhost:8080/"
        },
        "id": "XMCJ1dI-yn-Q",
        "outputId": "4b2f0fa2-3be1-4b0e-ca22-3cf7b26b0eff"
      },
      "execution_count": 3,
      "outputs": [
        {
          "output_type": "stream",
          "name": "stdout",
          "text": [
            "/content/drive/MyDrive/CV_seminar_project\n"
          ]
        }
      ]
    },
    {
      "cell_type": "code",
      "source": [
        "import torch\n",
        "device = 'cuda' if torch.cuda.is_available() else 'cpu' # device 배정\n",
        "torch.manual_seed(42)\n",
        "if device == 'cuda':\n",
        "  torch.cuda.manual_seed_all(42)\n",
        "device"
      ],
      "metadata": {
        "colab": {
          "base_uri": "https://localhost:8080/",
          "height": 35
        },
        "id": "OjW5yY1eAwT4",
        "outputId": "54ad1866-d8d9-4b07-90d6-50f3990c8d28"
      },
      "execution_count": 4,
      "outputs": [
        {
          "output_type": "execute_result",
          "data": {
            "text/plain": [
              "'cuda'"
            ],
            "application/vnd.google.colaboratory.intrinsic+json": {
              "type": "string"
            }
          },
          "metadata": {},
          "execution_count": 4
        }
      ]
    },
    {
      "cell_type": "markdown",
      "source": [
        "# 0. 데이터 셋 준비하기"
      ],
      "metadata": {
        "id": "o9pggPZzBFQg"
      }
    },
    {
      "cell_type": "code",
      "source": [
        "import torch.nn as nn\n",
        "\n",
        "# 하이퍼 파라미터\n",
        "batch_size = 8\n",
        "lr = 0.0001\n",
        "epochs = 50\n",
        "optimizer_name = 'adam'\n",
        "model_name = 'resnet50'\n",
        "criterion = nn.CrossEntropyLoss().to(device) # cost function"
      ],
      "metadata": {
        "id": "RvjAgke0AwV2"
      },
      "execution_count": 5,
      "outputs": []
    },
    {
      "cell_type": "code",
      "source": [
        "from dataset import Custom_dataset as C\n",
        "from torch.utils.data import Dataset, DataLoader\n",
        "import cv2\n",
        "import os \n",
        "import torch\n",
        "import torchvision\n",
        "from torchvision import transforms # 이미지 데이터 augmentation\n",
        "import glob\n",
        "import albumentations as A\n",
        "from albumentations.pytorch.transforms import ToTensorV2 # albumentations 텐서화 함수\n",
        "\n",
        "root_path = '/content/drive/MyDrive/CV_seminar_project'\n",
        "\n",
        "train_transforms = A.Compose([\n",
        "    A.Resize(224,224),\n",
        "    A.Transpose(p=0.5),\n",
        "    A.HorizontalFlip(p=0.5),\n",
        "    A.VerticalFlip(p=0.5),\n",
        "    A.ShiftScaleRotate(p=0.5),\n",
        "    A.HueSaturationValue(hue_shift_limit=20, sat_shift_limit=20, val_shift_limit=20, p=0.5),\n",
        "    A.RandomBrightnessContrast(brightness_limit=(-0.1,0.1), contrast_limit=(-0.1, 0.1), p=0.5),\n",
        "    A.ChannelShuffle(),\n",
        "    A.Normalize(mean=(0.485, 0.456, 0.406), std=(0.229, 0.224, 0.225), max_pixel_value=255.0, always_apply=False, p=1.0), # 이미지넷 데이터셋 통계값으로 Normalize\n",
        "    A.CoarseDropout(p=0.5),\n",
        "    ToTensorV2()\n",
        "])\n",
        "\n",
        "test_transforms = A.Compose([\n",
        "    A.Resize(224,224),\n",
        "    A.Normalize(mean=(0.485, 0.456, 0.406), std=(0.229, 0.224, 0.225), max_pixel_value=255.0, always_apply=False, p=1.0), # 텐서타입은 안해줌\n",
        "    ToTensorV2() # Normalize를 먼저하고 tensor화를 진행해야한다.\n",
        "])\n",
        "\n",
        "### Pytorch 데이터 클래스 생성\n",
        "train_class = C(root_path=root_path, mode='train', transforms=train_transforms)\n",
        "valid_class = C(root_path=root_path, mode='valid', transforms=test_transforms)\n",
        "test_class = C(root_path=root_path, mode='test', transforms=test_transforms)\n",
        "\n",
        "### Pytorch BatchLoader 생성 (학습에 이용할 최종 dataloader)\n",
        "from torch.utils.data import DataLoader as DataLoader\n",
        "\n",
        "train_loader = DataLoader(train_class, batch_size=batch_size, shuffle = True, num_workers=0)\n",
        "valid_loader = DataLoader(valid_class, batch_size=batch_size, shuffle = False, num_workers=0)\n",
        "test_loader = DataLoader(test_class, batch_size=batch_size, shuffle = False, num_workers=0)"
      ],
      "metadata": {
        "id": "CtW6FBbqAwYJ"
      },
      "execution_count": 6,
      "outputs": []
    },
    {
      "cell_type": "markdown",
      "source": [
        "# 1. 모델 불러오기"
      ],
      "metadata": {
        "id": "NUbVPvTeRSfQ"
      }
    },
    {
      "cell_type": "code",
      "source": [
        "from torchvision import models # 모델 라이브러리 함수\n",
        "\n",
        "resnet_50 = models.resnet50(pretrained=True).to(device) # 선행학습 여부\n",
        "\n",
        "# finetuning\n",
        "import torch.nn as nn # 파이토치 뉴럴네트워크 layer 라이브러리\n",
        "resnet_50.fc = nn.Linear(resnet_50.fc.in_features, 3).to(device)"
      ],
      "metadata": {
        "colab": {
          "base_uri": "https://localhost:8080/",
          "height": 160,
          "referenced_widgets": [
            "1000c5a4d107457f9a5b832401f892a6",
            "5d38fdc983a5410bbb1583ad7b97c608",
            "ebcb0e2e6fec43278ca644b69599cf86",
            "512fbe2bb9dc40c0a9e37ecc8c71773f",
            "c4a4edfaa4394253978f432fc48c48fe",
            "8b9b5c70b0054efb9a62c6faa963a04d",
            "8636fd13d7fc4d97995523f5d3881b83",
            "8bba1d7756d04983be7804c21e33b0c9",
            "db8edfe95ec84e6ab8a820baf9ed0f97",
            "c43477060ffd4ac0a1a2c26204013c44",
            "27d0a82f0a024503ac919d8eb51690f7"
          ]
        },
        "id": "ayO0kmyyAwaW",
        "outputId": "064f14c4-45b8-488c-9ca3-19e423959d8b"
      },
      "execution_count": 7,
      "outputs": [
        {
          "output_type": "stream",
          "name": "stderr",
          "text": [
            "/usr/local/lib/python3.9/dist-packages/torchvision/models/_utils.py:208: UserWarning: The parameter 'pretrained' is deprecated since 0.13 and may be removed in the future, please use 'weights' instead.\n",
            "  warnings.warn(\n",
            "/usr/local/lib/python3.9/dist-packages/torchvision/models/_utils.py:223: UserWarning: Arguments other than a weight enum or `None` for 'weights' are deprecated since 0.13 and may be removed in the future. The current behavior is equivalent to passing `weights=ResNet50_Weights.IMAGENET1K_V1`. You can also use `weights=ResNet50_Weights.DEFAULT` to get the most up-to-date weights.\n",
            "  warnings.warn(msg)\n",
            "Downloading: \"https://download.pytorch.org/models/resnet50-0676ba61.pth\" to /root/.cache/torch/hub/checkpoints/resnet50-0676ba61.pth\n"
          ]
        },
        {
          "output_type": "display_data",
          "data": {
            "text/plain": [
              "  0%|          | 0.00/97.8M [00:00<?, ?B/s]"
            ],
            "application/vnd.jupyter.widget-view+json": {
              "version_major": 2,
              "version_minor": 0,
              "model_id": "1000c5a4d107457f9a5b832401f892a6"
            }
          },
          "metadata": {}
        }
      ]
    },
    {
      "cell_type": "code",
      "source": [
        "from torchsummary import summary # 모델 아키텍쳐 확인하는 함수\n",
        "\n",
        "summary(resnet_50, input_size = (3, 224, 224))"
      ],
      "metadata": {
        "colab": {
          "base_uri": "https://localhost:8080/"
        },
        "id": "cD0PDqbAAwcu",
        "outputId": "14002a5a-01fb-4e36-f42d-8dc1838470bf"
      },
      "execution_count": 8,
      "outputs": [
        {
          "output_type": "stream",
          "name": "stdout",
          "text": [
            "----------------------------------------------------------------\n",
            "        Layer (type)               Output Shape         Param #\n",
            "================================================================\n",
            "            Conv2d-1         [-1, 64, 112, 112]           9,408\n",
            "       BatchNorm2d-2         [-1, 64, 112, 112]             128\n",
            "              ReLU-3         [-1, 64, 112, 112]               0\n",
            "         MaxPool2d-4           [-1, 64, 56, 56]               0\n",
            "            Conv2d-5           [-1, 64, 56, 56]           4,096\n",
            "       BatchNorm2d-6           [-1, 64, 56, 56]             128\n",
            "              ReLU-7           [-1, 64, 56, 56]               0\n",
            "            Conv2d-8           [-1, 64, 56, 56]          36,864\n",
            "       BatchNorm2d-9           [-1, 64, 56, 56]             128\n",
            "             ReLU-10           [-1, 64, 56, 56]               0\n",
            "           Conv2d-11          [-1, 256, 56, 56]          16,384\n",
            "      BatchNorm2d-12          [-1, 256, 56, 56]             512\n",
            "           Conv2d-13          [-1, 256, 56, 56]          16,384\n",
            "      BatchNorm2d-14          [-1, 256, 56, 56]             512\n",
            "             ReLU-15          [-1, 256, 56, 56]               0\n",
            "       Bottleneck-16          [-1, 256, 56, 56]               0\n",
            "           Conv2d-17           [-1, 64, 56, 56]          16,384\n",
            "      BatchNorm2d-18           [-1, 64, 56, 56]             128\n",
            "             ReLU-19           [-1, 64, 56, 56]               0\n",
            "           Conv2d-20           [-1, 64, 56, 56]          36,864\n",
            "      BatchNorm2d-21           [-1, 64, 56, 56]             128\n",
            "             ReLU-22           [-1, 64, 56, 56]               0\n",
            "           Conv2d-23          [-1, 256, 56, 56]          16,384\n",
            "      BatchNorm2d-24          [-1, 256, 56, 56]             512\n",
            "             ReLU-25          [-1, 256, 56, 56]               0\n",
            "       Bottleneck-26          [-1, 256, 56, 56]               0\n",
            "           Conv2d-27           [-1, 64, 56, 56]          16,384\n",
            "      BatchNorm2d-28           [-1, 64, 56, 56]             128\n",
            "             ReLU-29           [-1, 64, 56, 56]               0\n",
            "           Conv2d-30           [-1, 64, 56, 56]          36,864\n",
            "      BatchNorm2d-31           [-1, 64, 56, 56]             128\n",
            "             ReLU-32           [-1, 64, 56, 56]               0\n",
            "           Conv2d-33          [-1, 256, 56, 56]          16,384\n",
            "      BatchNorm2d-34          [-1, 256, 56, 56]             512\n",
            "             ReLU-35          [-1, 256, 56, 56]               0\n",
            "       Bottleneck-36          [-1, 256, 56, 56]               0\n",
            "           Conv2d-37          [-1, 128, 56, 56]          32,768\n",
            "      BatchNorm2d-38          [-1, 128, 56, 56]             256\n",
            "             ReLU-39          [-1, 128, 56, 56]               0\n",
            "           Conv2d-40          [-1, 128, 28, 28]         147,456\n",
            "      BatchNorm2d-41          [-1, 128, 28, 28]             256\n",
            "             ReLU-42          [-1, 128, 28, 28]               0\n",
            "           Conv2d-43          [-1, 512, 28, 28]          65,536\n",
            "      BatchNorm2d-44          [-1, 512, 28, 28]           1,024\n",
            "           Conv2d-45          [-1, 512, 28, 28]         131,072\n",
            "      BatchNorm2d-46          [-1, 512, 28, 28]           1,024\n",
            "             ReLU-47          [-1, 512, 28, 28]               0\n",
            "       Bottleneck-48          [-1, 512, 28, 28]               0\n",
            "           Conv2d-49          [-1, 128, 28, 28]          65,536\n",
            "      BatchNorm2d-50          [-1, 128, 28, 28]             256\n",
            "             ReLU-51          [-1, 128, 28, 28]               0\n",
            "           Conv2d-52          [-1, 128, 28, 28]         147,456\n",
            "      BatchNorm2d-53          [-1, 128, 28, 28]             256\n",
            "             ReLU-54          [-1, 128, 28, 28]               0\n",
            "           Conv2d-55          [-1, 512, 28, 28]          65,536\n",
            "      BatchNorm2d-56          [-1, 512, 28, 28]           1,024\n",
            "             ReLU-57          [-1, 512, 28, 28]               0\n",
            "       Bottleneck-58          [-1, 512, 28, 28]               0\n",
            "           Conv2d-59          [-1, 128, 28, 28]          65,536\n",
            "      BatchNorm2d-60          [-1, 128, 28, 28]             256\n",
            "             ReLU-61          [-1, 128, 28, 28]               0\n",
            "           Conv2d-62          [-1, 128, 28, 28]         147,456\n",
            "      BatchNorm2d-63          [-1, 128, 28, 28]             256\n",
            "             ReLU-64          [-1, 128, 28, 28]               0\n",
            "           Conv2d-65          [-1, 512, 28, 28]          65,536\n",
            "      BatchNorm2d-66          [-1, 512, 28, 28]           1,024\n",
            "             ReLU-67          [-1, 512, 28, 28]               0\n",
            "       Bottleneck-68          [-1, 512, 28, 28]               0\n",
            "           Conv2d-69          [-1, 128, 28, 28]          65,536\n",
            "      BatchNorm2d-70          [-1, 128, 28, 28]             256\n",
            "             ReLU-71          [-1, 128, 28, 28]               0\n",
            "           Conv2d-72          [-1, 128, 28, 28]         147,456\n",
            "      BatchNorm2d-73          [-1, 128, 28, 28]             256\n",
            "             ReLU-74          [-1, 128, 28, 28]               0\n",
            "           Conv2d-75          [-1, 512, 28, 28]          65,536\n",
            "      BatchNorm2d-76          [-1, 512, 28, 28]           1,024\n",
            "             ReLU-77          [-1, 512, 28, 28]               0\n",
            "       Bottleneck-78          [-1, 512, 28, 28]               0\n",
            "           Conv2d-79          [-1, 256, 28, 28]         131,072\n",
            "      BatchNorm2d-80          [-1, 256, 28, 28]             512\n",
            "             ReLU-81          [-1, 256, 28, 28]               0\n",
            "           Conv2d-82          [-1, 256, 14, 14]         589,824\n",
            "      BatchNorm2d-83          [-1, 256, 14, 14]             512\n",
            "             ReLU-84          [-1, 256, 14, 14]               0\n",
            "           Conv2d-85         [-1, 1024, 14, 14]         262,144\n",
            "      BatchNorm2d-86         [-1, 1024, 14, 14]           2,048\n",
            "           Conv2d-87         [-1, 1024, 14, 14]         524,288\n",
            "      BatchNorm2d-88         [-1, 1024, 14, 14]           2,048\n",
            "             ReLU-89         [-1, 1024, 14, 14]               0\n",
            "       Bottleneck-90         [-1, 1024, 14, 14]               0\n",
            "           Conv2d-91          [-1, 256, 14, 14]         262,144\n",
            "      BatchNorm2d-92          [-1, 256, 14, 14]             512\n",
            "             ReLU-93          [-1, 256, 14, 14]               0\n",
            "           Conv2d-94          [-1, 256, 14, 14]         589,824\n",
            "      BatchNorm2d-95          [-1, 256, 14, 14]             512\n",
            "             ReLU-96          [-1, 256, 14, 14]               0\n",
            "           Conv2d-97         [-1, 1024, 14, 14]         262,144\n",
            "      BatchNorm2d-98         [-1, 1024, 14, 14]           2,048\n",
            "             ReLU-99         [-1, 1024, 14, 14]               0\n",
            "      Bottleneck-100         [-1, 1024, 14, 14]               0\n",
            "          Conv2d-101          [-1, 256, 14, 14]         262,144\n",
            "     BatchNorm2d-102          [-1, 256, 14, 14]             512\n",
            "            ReLU-103          [-1, 256, 14, 14]               0\n",
            "          Conv2d-104          [-1, 256, 14, 14]         589,824\n",
            "     BatchNorm2d-105          [-1, 256, 14, 14]             512\n",
            "            ReLU-106          [-1, 256, 14, 14]               0\n",
            "          Conv2d-107         [-1, 1024, 14, 14]         262,144\n",
            "     BatchNorm2d-108         [-1, 1024, 14, 14]           2,048\n",
            "            ReLU-109         [-1, 1024, 14, 14]               0\n",
            "      Bottleneck-110         [-1, 1024, 14, 14]               0\n",
            "          Conv2d-111          [-1, 256, 14, 14]         262,144\n",
            "     BatchNorm2d-112          [-1, 256, 14, 14]             512\n",
            "            ReLU-113          [-1, 256, 14, 14]               0\n",
            "          Conv2d-114          [-1, 256, 14, 14]         589,824\n",
            "     BatchNorm2d-115          [-1, 256, 14, 14]             512\n",
            "            ReLU-116          [-1, 256, 14, 14]               0\n",
            "          Conv2d-117         [-1, 1024, 14, 14]         262,144\n",
            "     BatchNorm2d-118         [-1, 1024, 14, 14]           2,048\n",
            "            ReLU-119         [-1, 1024, 14, 14]               0\n",
            "      Bottleneck-120         [-1, 1024, 14, 14]               0\n",
            "          Conv2d-121          [-1, 256, 14, 14]         262,144\n",
            "     BatchNorm2d-122          [-1, 256, 14, 14]             512\n",
            "            ReLU-123          [-1, 256, 14, 14]               0\n",
            "          Conv2d-124          [-1, 256, 14, 14]         589,824\n",
            "     BatchNorm2d-125          [-1, 256, 14, 14]             512\n",
            "            ReLU-126          [-1, 256, 14, 14]               0\n",
            "          Conv2d-127         [-1, 1024, 14, 14]         262,144\n",
            "     BatchNorm2d-128         [-1, 1024, 14, 14]           2,048\n",
            "            ReLU-129         [-1, 1024, 14, 14]               0\n",
            "      Bottleneck-130         [-1, 1024, 14, 14]               0\n",
            "          Conv2d-131          [-1, 256, 14, 14]         262,144\n",
            "     BatchNorm2d-132          [-1, 256, 14, 14]             512\n",
            "            ReLU-133          [-1, 256, 14, 14]               0\n",
            "          Conv2d-134          [-1, 256, 14, 14]         589,824\n",
            "     BatchNorm2d-135          [-1, 256, 14, 14]             512\n",
            "            ReLU-136          [-1, 256, 14, 14]               0\n",
            "          Conv2d-137         [-1, 1024, 14, 14]         262,144\n",
            "     BatchNorm2d-138         [-1, 1024, 14, 14]           2,048\n",
            "            ReLU-139         [-1, 1024, 14, 14]               0\n",
            "      Bottleneck-140         [-1, 1024, 14, 14]               0\n",
            "          Conv2d-141          [-1, 512, 14, 14]         524,288\n",
            "     BatchNorm2d-142          [-1, 512, 14, 14]           1,024\n",
            "            ReLU-143          [-1, 512, 14, 14]               0\n",
            "          Conv2d-144            [-1, 512, 7, 7]       2,359,296\n",
            "     BatchNorm2d-145            [-1, 512, 7, 7]           1,024\n",
            "            ReLU-146            [-1, 512, 7, 7]               0\n",
            "          Conv2d-147           [-1, 2048, 7, 7]       1,048,576\n",
            "     BatchNorm2d-148           [-1, 2048, 7, 7]           4,096\n",
            "          Conv2d-149           [-1, 2048, 7, 7]       2,097,152\n",
            "     BatchNorm2d-150           [-1, 2048, 7, 7]           4,096\n",
            "            ReLU-151           [-1, 2048, 7, 7]               0\n",
            "      Bottleneck-152           [-1, 2048, 7, 7]               0\n",
            "          Conv2d-153            [-1, 512, 7, 7]       1,048,576\n",
            "     BatchNorm2d-154            [-1, 512, 7, 7]           1,024\n",
            "            ReLU-155            [-1, 512, 7, 7]               0\n",
            "          Conv2d-156            [-1, 512, 7, 7]       2,359,296\n",
            "     BatchNorm2d-157            [-1, 512, 7, 7]           1,024\n",
            "            ReLU-158            [-1, 512, 7, 7]               0\n",
            "          Conv2d-159           [-1, 2048, 7, 7]       1,048,576\n",
            "     BatchNorm2d-160           [-1, 2048, 7, 7]           4,096\n",
            "            ReLU-161           [-1, 2048, 7, 7]               0\n",
            "      Bottleneck-162           [-1, 2048, 7, 7]               0\n",
            "          Conv2d-163            [-1, 512, 7, 7]       1,048,576\n",
            "     BatchNorm2d-164            [-1, 512, 7, 7]           1,024\n",
            "            ReLU-165            [-1, 512, 7, 7]               0\n",
            "          Conv2d-166            [-1, 512, 7, 7]       2,359,296\n",
            "     BatchNorm2d-167            [-1, 512, 7, 7]           1,024\n",
            "            ReLU-168            [-1, 512, 7, 7]               0\n",
            "          Conv2d-169           [-1, 2048, 7, 7]       1,048,576\n",
            "     BatchNorm2d-170           [-1, 2048, 7, 7]           4,096\n",
            "            ReLU-171           [-1, 2048, 7, 7]               0\n",
            "      Bottleneck-172           [-1, 2048, 7, 7]               0\n",
            "AdaptiveAvgPool2d-173           [-1, 2048, 1, 1]               0\n",
            "          Linear-174                    [-1, 3]           6,147\n",
            "================================================================\n",
            "Total params: 23,514,179\n",
            "Trainable params: 23,514,179\n",
            "Non-trainable params: 0\n",
            "----------------------------------------------------------------\n",
            "Input size (MB): 0.57\n",
            "Forward/backward pass size (MB): 286.55\n",
            "Params size (MB): 89.70\n",
            "Estimated Total Size (MB): 376.82\n",
            "----------------------------------------------------------------\n"
          ]
        }
      ]
    },
    {
      "cell_type": "code",
      "source": [
        "optimizer = torch.optim.Adam(resnet_50.parameters(), lr = lr, weight_decay = 1e-8)"
      ],
      "metadata": {
        "id": "Ydl-cfQ8Bc2W"
      },
      "execution_count": 10,
      "outputs": []
    },
    {
      "cell_type": "markdown",
      "source": [
        "# 2. 모델 학습시키기"
      ],
      "metadata": {
        "id": "A-n5slvdRrvZ"
      }
    },
    {
      "cell_type": "code",
      "source": [
        "import numpy as np\n",
        "\n",
        "train_acc_lst = []\n",
        "train_loss_lst = []\n",
        "\n",
        "test_acc_lst = []\n",
        "test_loss_lst = []\n",
        "epochs = 100\n",
        "\n",
        "save_dir = '/content/drive/MyDrive/CV_seminar_project'\n",
        "model_name = 'resnet_50'\n",
        "\n",
        "for epoch in range(1, epochs):\n",
        "  running_loss = 0.0\n",
        "  test_running_loss = 0.0\n",
        "\n",
        "  total = 0\n",
        "  correct = 0\n",
        "  \n",
        "  train_acc = 0\n",
        "  test_acc = 0\n",
        "\n",
        "  resnet_50.train()\n",
        "  for i, (train_img, train_label) in enumerate(train_loader):\n",
        "    # gpu에 할당\n",
        "    train_img = train_img.to(device)\n",
        "    train_label = train_label.to(device)\n",
        "    optimizer.zero_grad( set_to_none = True ) # 계산했던 가중치 초기화\n",
        "\n",
        "    output = resnet_50(train_img) # 모델에 입력\n",
        "    loss = criterion(output, train_label)\n",
        "    loss.backward() # 미분\n",
        "    optimizer.step() # 학습\n",
        "\n",
        "    # loss & acc\n",
        "    running_loss += loss.item()\n",
        "    _, predictions = torch.max(output.data ,dim = 1 )\n",
        "    \n",
        "    total += train_label.size(0)\n",
        "    correct += (predictions == train_label).sum().item()\n",
        "    train_acc += 100 * (correct/total)\n",
        "\n",
        "  running_loss = round(running_loss/(i+1), 3) # 소수점 반올림\n",
        "  train_acc = round(train_acc/(i+1), 3)\n",
        "  \n",
        "  print(f'Trainset{epoch}/{epochs} Loss : {running_loss}, Accuracy : {train_acc}%')\n",
        "  train_acc_lst.append(train_acc)\n",
        "  train_loss_lst.append(running_loss)\n",
        "\n",
        "\n",
        "  total = 0\n",
        "  correct = 0\n",
        "  resnet_50.eval()\n",
        "  with torch.no_grad():\n",
        "    for ii, (valid_img, valid_label) in enumerate(valid_loader):\n",
        "          # gpu에 할당\n",
        "      valid_img = valid_img.to(device)\n",
        "      valid_label = valid_label.to(device)\n",
        "\n",
        "      output = resnet_50(valid_img) # 모델에 입력\n",
        "      loss = criterion(output, valid_label)\n",
        "\n",
        "      # loss & acc\n",
        "      test_running_loss += loss.item()\n",
        "      _, predictions = torch.max(output.data ,dim = 1 )\n",
        "      \n",
        "      total += valid_label.size(0)\n",
        "      correct += (predictions == valid_label).sum().item()\n",
        "      test_acc += 100 * (correct/total)\n",
        "\n",
        "  test_running_loss = round(test_running_loss/(ii+1), 3) # 소수점 반올림\n",
        "  test_acc = round(test_acc/(ii+1), 3)\n",
        "  print(f'Validset{epoch}/{epochs} Loss : {test_running_loss}, Accuracy : {test_acc}% \\n')\n",
        "  test_acc_lst.append(test_acc)\n",
        "  test_loss_lst.append(test_running_loss)\n",
        "\n",
        "  if np.max(test_acc_lst) <= test_acc:            # 현재 epoch의 test_acc가 가장 좋은 성능이라면 지금 모델의 가중치를 저장한다.\n",
        "    weights = resnet_50.state_dict()\n",
        "    check_point = {\n",
        "        'net' : weights,\n",
        "        'epoch' : epoch,\n",
        "        'train_loss' : running_loss,\n",
        "        'test_loss' : test_running_loss,\n",
        "        'train_acc' : train_acc,\n",
        "        'test_acc' : test_acc\n",
        "\n",
        "    }\n",
        "    torch.save(check_point, save_dir + f'/{model_name}.pth')  "
      ],
      "metadata": {
        "colab": {
          "base_uri": "https://localhost:8080/"
        },
        "id": "O_71DC4KAwe3",
        "outputId": "23614679-911d-4fd7-8f1f-ed911dfc3ff4"
      },
      "execution_count": 11,
      "outputs": [
        {
          "output_type": "stream",
          "name": "stdout",
          "text": [
            "Trainset1/100 Loss : 0.819, Accuracy : 57.891%\n",
            "Validset1/100 Loss : 0.578, Accuracy : 81.955% \n",
            "\n",
            "Trainset2/100 Loss : 0.655, Accuracy : 73.291%\n",
            "Validset2/100 Loss : 0.511, Accuracy : 80.764% \n",
            "\n",
            "Trainset3/100 Loss : 0.593, Accuracy : 78.377%\n",
            "Validset3/100 Loss : 0.395, Accuracy : 77.883% \n",
            "\n",
            "Trainset4/100 Loss : 0.585, Accuracy : 76.752%\n",
            "Validset4/100 Loss : 0.47, Accuracy : 83.946% \n",
            "\n",
            "Trainset5/100 Loss : 0.474, Accuracy : 80.357%\n",
            "Validset5/100 Loss : 0.333, Accuracy : 80.469% \n",
            "\n",
            "Trainset6/100 Loss : 0.428, Accuracy : 84.869%\n",
            "Validset6/100 Loss : 0.547, Accuracy : 71.785% \n",
            "\n",
            "Trainset7/100 Loss : 0.458, Accuracy : 83.984%\n",
            "Validset7/100 Loss : 0.468, Accuracy : 67.068% \n",
            "\n",
            "Trainset8/100 Loss : 0.467, Accuracy : 80.467%\n",
            "Validset8/100 Loss : 0.409, Accuracy : 72.85% \n",
            "\n",
            "Trainset9/100 Loss : 0.415, Accuracy : 85.77%\n",
            "Validset9/100 Loss : 0.46, Accuracy : 69.301% \n",
            "\n",
            "Trainset10/100 Loss : 0.407, Accuracy : 84.374%\n",
            "Validset10/100 Loss : 0.319, Accuracy : 83.319% \n",
            "\n",
            "Trainset11/100 Loss : 0.315, Accuracy : 88.404%\n",
            "Validset11/100 Loss : 0.329, Accuracy : 80.441% \n",
            "\n",
            "Trainset12/100 Loss : 0.348, Accuracy : 88.511%\n",
            "Validset12/100 Loss : 0.296, Accuracy : 82.565% \n",
            "\n",
            "Trainset13/100 Loss : 0.243, Accuracy : 94.438%\n",
            "Validset13/100 Loss : 0.362, Accuracy : 86.274% \n",
            "\n",
            "Trainset14/100 Loss : 0.345, Accuracy : 84.339%\n",
            "Validset14/100 Loss : 0.292, Accuracy : 84.784% \n",
            "\n",
            "Trainset15/100 Loss : 0.314, Accuracy : 89.213%\n",
            "Validset15/100 Loss : 0.366, Accuracy : 81.242% \n",
            "\n",
            "Trainset16/100 Loss : 0.317, Accuracy : 89.213%\n",
            "Validset16/100 Loss : 0.352, Accuracy : 83.108% \n",
            "\n",
            "Trainset17/100 Loss : 0.241, Accuracy : 90.162%\n",
            "Validset17/100 Loss : 0.506, Accuracy : 81.177% \n",
            "\n",
            "Trainset18/100 Loss : 0.319, Accuracy : 88.066%\n",
            "Validset18/100 Loss : 0.652, Accuracy : 69.871% \n",
            "\n",
            "Trainset19/100 Loss : 0.278, Accuracy : 88.912%\n",
            "Validset19/100 Loss : 0.458, Accuracy : 81.309% \n",
            "\n",
            "Trainset20/100 Loss : 0.229, Accuracy : 90.451%\n",
            "Validset20/100 Loss : 0.378, Accuracy : 83.736% \n",
            "\n",
            "Trainset21/100 Loss : 0.23, Accuracy : 91.63%\n",
            "Validset21/100 Loss : 0.293, Accuracy : 88.835% \n",
            "\n",
            "Trainset22/100 Loss : 0.234, Accuracy : 91.478%\n",
            "Validset22/100 Loss : 0.374, Accuracy : 88.135% \n",
            "\n",
            "Trainset23/100 Loss : 0.258, Accuracy : 92.768%\n",
            "Validset23/100 Loss : 0.369, Accuracy : 86.25% \n",
            "\n",
            "Trainset24/100 Loss : 0.269, Accuracy : 90.964%\n",
            "Validset24/100 Loss : 0.472, Accuracy : 85.966% \n",
            "\n",
            "Trainset25/100 Loss : 0.242, Accuracy : 90.801%\n",
            "Validset25/100 Loss : 0.339, Accuracy : 86.53% \n",
            "\n",
            "Trainset26/100 Loss : 0.221, Accuracy : 89.682%\n",
            "Validset26/100 Loss : 0.341, Accuracy : 80.948% \n",
            "\n",
            "Trainset27/100 Loss : 0.205, Accuracy : 93.44%\n",
            "Validset27/100 Loss : 0.393, Accuracy : 84.408% \n",
            "\n",
            "Trainset28/100 Loss : 0.222, Accuracy : 92.186%\n",
            "Validset28/100 Loss : 0.481, Accuracy : 74.151% \n",
            "\n",
            "Trainset29/100 Loss : 0.216, Accuracy : 92.519%\n",
            "Validset29/100 Loss : 0.314, Accuracy : 86.78% \n",
            "\n",
            "Trainset30/100 Loss : 0.217, Accuracy : 93.8%\n",
            "Validset30/100 Loss : 0.388, Accuracy : 85.644% \n",
            "\n",
            "Trainset31/100 Loss : 0.161, Accuracy : 94.51%\n",
            "Validset31/100 Loss : 0.355, Accuracy : 85.988% \n",
            "\n",
            "Trainset32/100 Loss : 0.201, Accuracy : 94.967%\n",
            "Validset32/100 Loss : 0.464, Accuracy : 82.2% \n",
            "\n",
            "Trainset33/100 Loss : 0.178, Accuracy : 93.029%\n",
            "Validset33/100 Loss : 0.366, Accuracy : 87.253% \n",
            "\n",
            "Trainset34/100 Loss : 0.169, Accuracy : 95.853%\n",
            "Validset34/100 Loss : 0.302, Accuracy : 87.303% \n",
            "\n",
            "Trainset35/100 Loss : 0.171, Accuracy : 94.959%\n",
            "Validset35/100 Loss : 0.313, Accuracy : 88.255% \n",
            "\n",
            "Trainset36/100 Loss : 0.164, Accuracy : 93.323%\n",
            "Validset36/100 Loss : 0.368, Accuracy : 83.314% \n",
            "\n",
            "Trainset37/100 Loss : 0.153, Accuracy : 96.001%\n",
            "Validset37/100 Loss : 0.386, Accuracy : 89.598% \n",
            "\n",
            "Trainset38/100 Loss : 0.162, Accuracy : 94.162%\n",
            "Validset38/100 Loss : 0.333, Accuracy : 88.329% \n",
            "\n",
            "Trainset39/100 Loss : 0.188, Accuracy : 94.388%\n",
            "Validset39/100 Loss : 0.441, Accuracy : 85.563% \n",
            "\n",
            "Trainset40/100 Loss : 0.238, Accuracy : 90.752%\n",
            "Validset40/100 Loss : 0.401, Accuracy : 82.933% \n",
            "\n",
            "Trainset41/100 Loss : 0.187, Accuracy : 93.878%\n",
            "Validset41/100 Loss : 0.523, Accuracy : 84.631% \n",
            "\n",
            "Trainset42/100 Loss : 0.174, Accuracy : 91.507%\n",
            "Validset42/100 Loss : 0.384, Accuracy : 86.896% \n",
            "\n",
            "Trainset43/100 Loss : 0.15, Accuracy : 93.818%\n",
            "Validset43/100 Loss : 0.419, Accuracy : 78.992% \n",
            "\n",
            "Trainset44/100 Loss : 0.206, Accuracy : 91.894%\n",
            "Validset44/100 Loss : 0.336, Accuracy : 86.939% \n",
            "\n",
            "Trainset45/100 Loss : 0.17, Accuracy : 94.84%\n",
            "Validset45/100 Loss : 0.322, Accuracy : 86.698% \n",
            "\n",
            "Trainset46/100 Loss : 0.103, Accuracy : 96.936%\n",
            "Validset46/100 Loss : 0.325, Accuracy : 86.874% \n",
            "\n",
            "Trainset47/100 Loss : 0.122, Accuracy : 96.558%\n",
            "Validset47/100 Loss : 0.375, Accuracy : 86.081% \n",
            "\n",
            "Trainset48/100 Loss : 0.165, Accuracy : 93.909%\n",
            "Validset48/100 Loss : 0.267, Accuracy : 87.385% \n",
            "\n",
            "Trainset49/100 Loss : 0.12, Accuracy : 96.281%\n",
            "Validset49/100 Loss : 0.316, Accuracy : 87.411% \n",
            "\n",
            "Trainset50/100 Loss : 0.136, Accuracy : 96.675%\n",
            "Validset50/100 Loss : 0.348, Accuracy : 77.677% \n",
            "\n",
            "Trainset51/100 Loss : 0.172, Accuracy : 93.695%\n",
            "Validset51/100 Loss : 0.315, Accuracy : 79.318% \n",
            "\n",
            "Trainset52/100 Loss : 0.157, Accuracy : 95.472%\n",
            "Validset52/100 Loss : 0.367, Accuracy : 86.161% \n",
            "\n",
            "Trainset53/100 Loss : 0.171, Accuracy : 93.215%\n",
            "Validset53/100 Loss : 0.306, Accuracy : 84.66% \n",
            "\n",
            "Trainset54/100 Loss : 0.142, Accuracy : 95.016%\n",
            "Validset54/100 Loss : 0.273, Accuracy : 91.602% \n",
            "\n",
            "Trainset55/100 Loss : 0.164, Accuracy : 95.589%\n",
            "Validset55/100 Loss : 0.304, Accuracy : 89.075% \n",
            "\n",
            "Trainset56/100 Loss : 0.153, Accuracy : 93.669%\n",
            "Validset56/100 Loss : 0.396, Accuracy : 80.811% \n",
            "\n",
            "Trainset57/100 Loss : 0.172, Accuracy : 95.524%\n",
            "Validset57/100 Loss : 0.29, Accuracy : 85.458% \n",
            "\n",
            "Trainset58/100 Loss : 0.112, Accuracy : 96.936%\n",
            "Validset58/100 Loss : 0.297, Accuracy : 87.406% \n",
            "\n",
            "Trainset59/100 Loss : 0.104, Accuracy : 97.106%\n",
            "Validset59/100 Loss : 0.321, Accuracy : 87.939% \n",
            "\n",
            "Trainset60/100 Loss : 0.144, Accuracy : 95.226%\n",
            "Validset60/100 Loss : 0.4, Accuracy : 83.969% \n",
            "\n",
            "Trainset61/100 Loss : 0.108, Accuracy : 93.945%\n",
            "Validset61/100 Loss : 0.343, Accuracy : 83.146% \n",
            "\n",
            "Trainset62/100 Loss : 0.137, Accuracy : 96.292%\n",
            "Validset62/100 Loss : 0.334, Accuracy : 85.026% \n",
            "\n",
            "Trainset63/100 Loss : 0.151, Accuracy : 94.613%\n",
            "Validset63/100 Loss : 0.332, Accuracy : 81.637% \n",
            "\n",
            "Trainset64/100 Loss : 0.107, Accuracy : 97.145%\n",
            "Validset64/100 Loss : 0.364, Accuracy : 83.971% \n",
            "\n",
            "Trainset65/100 Loss : 0.142, Accuracy : 96.549%\n",
            "Validset65/100 Loss : 0.381, Accuracy : 86.501% \n",
            "\n",
            "Trainset66/100 Loss : 0.111, Accuracy : 96.955%\n",
            "Validset66/100 Loss : 0.314, Accuracy : 81.955% \n",
            "\n",
            "Trainset67/100 Loss : 0.111, Accuracy : 97.263%\n",
            "Validset67/100 Loss : 0.34, Accuracy : 84.012% \n",
            "\n",
            "Trainset68/100 Loss : 0.087, Accuracy : 97.618%\n",
            "Validset68/100 Loss : 0.584, Accuracy : 74.375% \n",
            "\n",
            "Trainset69/100 Loss : 0.097, Accuracy : 96.645%\n",
            "Validset69/100 Loss : 0.54, Accuracy : 80.251% \n",
            "\n",
            "Trainset70/100 Loss : 0.124, Accuracy : 97.485%\n",
            "Validset70/100 Loss : 0.385, Accuracy : 85.904% \n",
            "\n",
            "Trainset71/100 Loss : 0.152, Accuracy : 93.292%\n",
            "Validset71/100 Loss : 0.421, Accuracy : 88.953% \n",
            "\n",
            "Trainset72/100 Loss : 0.147, Accuracy : 95.189%\n",
            "Validset72/100 Loss : 0.477, Accuracy : 85.805% \n",
            "\n",
            "Trainset73/100 Loss : 0.106, Accuracy : 96.648%\n",
            "Validset73/100 Loss : 0.341, Accuracy : 89.415% \n",
            "\n",
            "Trainset74/100 Loss : 0.087, Accuracy : 95.839%\n",
            "Validset74/100 Loss : 0.297, Accuracy : 82.911% \n",
            "\n",
            "Trainset75/100 Loss : 0.144, Accuracy : 96.419%\n",
            "Validset75/100 Loss : 0.312, Accuracy : 89.702% \n",
            "\n",
            "Trainset76/100 Loss : 0.066, Accuracy : 97.921%\n",
            "Validset76/100 Loss : 0.382, Accuracy : 84.832% \n",
            "\n",
            "Trainset77/100 Loss : 0.099, Accuracy : 98.071%\n",
            "Validset77/100 Loss : 0.4, Accuracy : 81.632% \n",
            "\n",
            "Trainset78/100 Loss : 0.112, Accuracy : 96.857%\n",
            "Validset78/100 Loss : 0.305, Accuracy : 84.202% \n",
            "\n",
            "Trainset79/100 Loss : 0.128, Accuracy : 96.25%\n",
            "Validset79/100 Loss : 0.421, Accuracy : 77.635% \n",
            "\n",
            "Trainset80/100 Loss : 0.18, Accuracy : 94.675%\n",
            "Validset80/100 Loss : 0.428, Accuracy : 79.636% \n",
            "\n",
            "Trainset81/100 Loss : 0.122, Accuracy : 95.947%\n",
            "Validset81/100 Loss : 0.406, Accuracy : 79.145% \n",
            "\n",
            "Trainset82/100 Loss : 0.074, Accuracy : 97.343%\n",
            "Validset82/100 Loss : 0.375, Accuracy : 81.317% \n",
            "\n",
            "Trainset83/100 Loss : 0.092, Accuracy : 97.965%\n",
            "Validset83/100 Loss : 0.32, Accuracy : 84.555% \n",
            "\n",
            "Trainset84/100 Loss : 0.118, Accuracy : 95.013%\n",
            "Validset84/100 Loss : 0.477, Accuracy : 85.82% \n",
            "\n",
            "Trainset85/100 Loss : 0.121, Accuracy : 96.702%\n",
            "Validset85/100 Loss : 0.449, Accuracy : 81.484% \n",
            "\n",
            "Trainset86/100 Loss : 0.079, Accuracy : 98.851%\n",
            "Validset86/100 Loss : 0.378, Accuracy : 84.261% \n",
            "\n",
            "Trainset87/100 Loss : 0.113, Accuracy : 96.736%\n",
            "Validset87/100 Loss : 0.355, Accuracy : 88.991% \n",
            "\n",
            "Trainset88/100 Loss : 0.104, Accuracy : 94.433%\n",
            "Validset88/100 Loss : 0.4, Accuracy : 83.17% \n",
            "\n",
            "Trainset89/100 Loss : 0.068, Accuracy : 97.459%\n",
            "Validset89/100 Loss : 0.532, Accuracy : 79.382% \n",
            "\n",
            "Trainset90/100 Loss : 0.048, Accuracy : 98.52%\n",
            "Validset90/100 Loss : 0.476, Accuracy : 82.37% \n",
            "\n",
            "Trainset91/100 Loss : 0.089, Accuracy : 97.979%\n",
            "Validset91/100 Loss : 0.404, Accuracy : 84.706% \n",
            "\n",
            "Trainset92/100 Loss : 0.1, Accuracy : 96.607%\n",
            "Validset92/100 Loss : 0.451, Accuracy : 82.677% \n",
            "\n",
            "Trainset93/100 Loss : 0.103, Accuracy : 96.493%\n",
            "Validset93/100 Loss : 0.562, Accuracy : 85.112% \n",
            "\n",
            "Trainset94/100 Loss : 0.096, Accuracy : 96.85%\n",
            "Validset94/100 Loss : 0.6, Accuracy : 78.114% \n",
            "\n",
            "Trainset95/100 Loss : 0.103, Accuracy : 96.828%\n",
            "Validset95/100 Loss : 0.413, Accuracy : 82.872% \n",
            "\n",
            "Trainset96/100 Loss : 0.069, Accuracy : 97.179%\n",
            "Validset96/100 Loss : 0.471, Accuracy : 84.756% \n",
            "\n",
            "Trainset97/100 Loss : 0.097, Accuracy : 96.068%\n",
            "Validset97/100 Loss : 0.474, Accuracy : 84.616% \n",
            "\n",
            "Trainset98/100 Loss : 0.101, Accuracy : 96.689%\n",
            "Validset98/100 Loss : 0.377, Accuracy : 83.454% \n",
            "\n",
            "Trainset99/100 Loss : 0.09, Accuracy : 97.204%\n",
            "Validset99/100 Loss : 0.473, Accuracy : 76.57% \n",
            "\n"
          ]
        }
      ]
    },
    {
      "cell_type": "markdown",
      "source": [
        "# 3. 학습 가중치 불러오기"
      ],
      "metadata": {
        "id": "rkC8rHMHzEpZ"
      }
    },
    {
      "cell_type": "code",
      "source": [
        "import torch\n",
        "state_dict = torch.load('resnet_50.pth')"
      ],
      "metadata": {
        "id": "-q4k1v1XyNHZ"
      },
      "execution_count": 30,
      "outputs": []
    },
    {
      "cell_type": "code",
      "source": [
        "best_test_acc = state_dict['test_acc']\n",
        "weights = state_dict['net']\n",
        "print(f'최종적으로 {100}범위 epoch에서 test셋 기준으로 {best_test_acc}를 달성하였습니다.')"
      ],
      "metadata": {
        "colab": {
          "base_uri": "https://localhost:8080/"
        },
        "id": "Qg3btw-h6lXL",
        "outputId": "307cf466-b5ba-4dfc-ee94-9fd1d186cd41"
      },
      "execution_count": 31,
      "outputs": [
        {
          "output_type": "stream",
          "name": "stdout",
          "text": [
            "최종적으로 100범위 epoch에서 test셋 기준으로 91.602를 달성하였습니다.\n"
          ]
        }
      ]
    },
    {
      "cell_type": "markdown",
      "source": [
        "# 4. 학습한 가중치를 모델에 적용하기"
      ],
      "metadata": {
        "id": "IbiP28PBzLPZ"
      }
    },
    {
      "cell_type": "code",
      "source": [
        "import torch\n",
        "device = 'cuda' if torch.cuda.is_available() else 'cpu' # device 배정\n",
        "torch.manual_seed(42)\n",
        "if device == 'cuda':\n",
        "  torch.cuda.manual_seed_all(42)\n",
        "device"
      ],
      "metadata": {
        "colab": {
          "base_uri": "https://localhost:8080/",
          "height": 35
        },
        "id": "2quOAztszLSA",
        "outputId": "04cab8c8-363d-404d-e234-776c049a2d39"
      },
      "execution_count": 32,
      "outputs": [
        {
          "output_type": "execute_result",
          "data": {
            "text/plain": [
              "'cuda'"
            ],
            "application/vnd.google.colaboratory.intrinsic+json": {
              "type": "string"
            }
          },
          "metadata": {},
          "execution_count": 32
        }
      ]
    },
    {
      "cell_type": "code",
      "source": [
        "from torchvision import models # 모델 라이브러리 함수\n",
        "\n",
        "resnet_50 = models.resnet50(pretrained=False).to(device) # 선행학습 여부\n",
        "\n",
        "# finetuning\n",
        "import torch.nn as nn # 파이토치 뉴럴네트워크 layer 라이브러리\n",
        "resnet_50.fc = nn.Linear(resnet_50.fc.in_features, 3).to(device)"
      ],
      "metadata": {
        "id": "KKj1RBj9zLUp",
        "colab": {
          "base_uri": "https://localhost:8080/"
        },
        "outputId": "20bdc72b-9b9c-4fe1-b2fe-4aa3ac00e741"
      },
      "execution_count": 39,
      "outputs": [
        {
          "output_type": "stream",
          "name": "stderr",
          "text": [
            "/usr/local/lib/python3.9/dist-packages/torchvision/models/_utils.py:208: UserWarning: The parameter 'pretrained' is deprecated since 0.13 and may be removed in the future, please use 'weights' instead.\n",
            "  warnings.warn(\n",
            "/usr/local/lib/python3.9/dist-packages/torchvision/models/_utils.py:223: UserWarning: Arguments other than a weight enum or `None` for 'weights' are deprecated since 0.13 and may be removed in the future. The current behavior is equivalent to passing `weights=None`.\n",
            "  warnings.warn(msg)\n"
          ]
        }
      ]
    },
    {
      "cell_type": "code",
      "source": [
        "# 학습한 가중치 적용 완료\n",
        "resnet_50.load_state_dict(weights)"
      ],
      "metadata": {
        "id": "Kha1OcpSzLXK",
        "colab": {
          "base_uri": "https://localhost:8080/"
        },
        "outputId": "803cb7b9-e13e-4970-c340-f46259b15869"
      },
      "execution_count": 40,
      "outputs": [
        {
          "output_type": "execute_result",
          "data": {
            "text/plain": [
              "<All keys matched successfully>"
            ]
          },
          "metadata": {},
          "execution_count": 40
        }
      ]
    },
    {
      "cell_type": "markdown",
      "source": [
        "# 5. testset의 최종 성능 확인하기\n",
        "\n",
        "- homeworks\n",
        "> 모델은 100 epoch를 돌려서 만든 가중치를 이용한다.   \n",
        "> testloader를 생성하여, 최종 성능을 평가한다.   \n",
        "> tensorbord는 자율로 이용하시오.\n"
      ],
      "metadata": {
        "id": "seqBcxaszLb6"
      }
    },
    {
      "cell_type": "code",
      "source": [
        "for epoch in range(1, epochs):\n",
        "  running_loss = 0.0\n",
        "  test_running_loss = 0.0\n",
        "\n",
        "  total = 0\n",
        "  correct = 0\n",
        "  \n",
        "  train_acc = 0\n",
        "  test_acc = 0  \n",
        "  \n",
        "  \n",
        "  total = 0\n",
        "  correct = 0\n",
        "  resnet_50.eval()\n",
        "  with torch.no_grad():\n",
        "    for ii, (test_img, test_label) in enumerate(test_loader):\n",
        "          # gpu에 할당\n",
        "      test_img = test_img.to(device)\n",
        "      test_label = test_label.to(device)\n",
        "\n",
        "      output = resnet_50(test_img) # 모델에 입력\n",
        "      loss = criterion(output, test_label)\n",
        "\n",
        "      # loss & acc\n",
        "      test_running_loss += loss.item()\n",
        "      _, predictions = torch.max(output.data ,dim = 1 )\n",
        "      \n",
        "      total += test_label.size(0)\n",
        "      correct += (predictions == test_label).sum().item()\n",
        "      test_acc += 100 * (correct/total)\n",
        "\n",
        "  test_running_loss = round(test_running_loss/(ii+1), 3) # 소수점 반올림\n",
        "  test_acc = round(test_acc/(ii+1), 3)\n",
        "  print(f'testset{epoch}/{epochs} Loss : {test_running_loss}, Accuracy : {test_acc}% \\n')\n",
        "  test_acc_lst.append(test_acc)\n",
        "  test_loss_lst.append(test_running_loss)\n",
        "\n",
        "  if np.max(test_acc_lst) <= test_acc:            # 현재 epoch의 test_acc가 가장 좋은 성능이라면 지금 모델의 가중치를 저장한다.\n",
        "    weights = resnet_50.state_dict()\n",
        "    check_point = {\n",
        "        'net' : weights,\n",
        "        'epoch' : epoch,\n",
        "        'train_loss' : running_loss,\n",
        "        'test_loss' : test_running_loss,\n",
        "        'train_acc' : train_acc,\n",
        "        'test_acc' : test_acc,\n",
        "        'epochs' : epochs\n",
        "    }\n",
        "    torch.save(check_point, save_dir + f'/{model_name}.pth')  "
      ],
      "metadata": {
        "colab": {
          "base_uri": "https://localhost:8080/"
        },
        "id": "Wqw-8En1Pe33",
        "outputId": "8ba5737f-a76b-4159-83c5-032680ffcd43"
      },
      "execution_count": 44,
      "outputs": [
        {
          "output_type": "stream",
          "name": "stdout",
          "text": [
            "testset1/10 Loss : 0.328, Accuracy : 86.062% \n",
            "\n",
            "testset2/10 Loss : 0.328, Accuracy : 86.062% \n",
            "\n",
            "testset3/10 Loss : 0.328, Accuracy : 86.062% \n",
            "\n",
            "testset4/10 Loss : 0.328, Accuracy : 86.062% \n",
            "\n",
            "testset5/10 Loss : 0.328, Accuracy : 86.062% \n",
            "\n",
            "testset6/10 Loss : 0.328, Accuracy : 86.062% \n",
            "\n",
            "testset7/10 Loss : 0.328, Accuracy : 86.062% \n",
            "\n",
            "testset8/10 Loss : 0.328, Accuracy : 86.062% \n",
            "\n",
            "testset9/10 Loss : 0.328, Accuracy : 86.062% \n",
            "\n"
          ]
        }
      ]
    }
  ]
}